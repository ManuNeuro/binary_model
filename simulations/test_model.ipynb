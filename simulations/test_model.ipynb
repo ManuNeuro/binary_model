{
 "cells": [
  {
   "cell_type": "code",
   "execution_count": 1,
   "id": "fc520fb5",
   "metadata": {},
   "outputs": [],
   "source": [
    "# Import library and models\n",
    "# NB: you need to import binary_model into the python path\n",
    "import sys\n",
    "import os\n",
    "module_path = os.path.abspath(os.path.join('..'))\n",
    "if module_path not in sys.path:\n",
    "    sys.path.append(module_path)\n",
    "\n",
    "# Standard library\n",
    "import numpy as np\n",
    "import matplotlib.pyplot as plt\n",
    "#!pip install tqdm \n",
    "from tqdm import tqdm\n",
    "\n",
    "# The model\n",
    "from model.binaryModel import binaryModel\n",
    "from model.utils import initRandomArchitecture, initGaussianWeights, initUniformWeights, dataPath"
   ]
  },
  {
   "cell_type": "code",
   "execution_count": 2,
   "id": "0ad4c123",
   "metadata": {},
   "outputs": [
    {
     "name": "stdout",
     "output_type": "stream",
     "text": [
      "The model will be evaluated on 56 values of sigma(W):\n",
      "sigma(W) = [0.01, 0.015, 0.019999999999999997, 0.024999999999999998, 0.03, 0.034999999999999996, 0.039999999999999994, 0.045, 0.049999999999999996, 0.05499999999999999, 0.06, 0.06999999999999999, 0.07999999999999999, 0.08999999999999998, 0.09999999999999998, 0.0607, 0.0614, 0.0621, 0.0629, 0.0636, 0.0643, 0.0643, 0.0657, 0.0664, 0.0671, 0.0679, 0.0686, 0.0693, 0.1, 0.11, 0.12, 0.13, 0.13999999999999999, 0.14999999999999997, 0.15999999999999998, 0.16999999999999998, 0.17999999999999997, 0.18999999999999995, 0.2, 0.30000000000000004, 0.4000000000000001, 0.5000000000000001, 0.6000000000000001, 0.7000000000000002, 0.8000000000000003, 0.9000000000000001, 1, 2, 3, 4, 5, 6, 7, 8, 9, 10]\n"
     ]
    }
   ],
   "source": [
    "# The experiment\n",
    "sim = 'statisticalAnalysis'\n",
    "distribution_weight = 'normal'\n",
    "experiment = 'display_phase_transition'\n",
    "experiment = experiment + '_' + distribution_weight\n",
    "\n",
    "N = 10000\n",
    "duration = 2000\n",
    "nbTrial = 10\n",
    "K = 16 # Connectivity degree of the graph \n",
    "meanWeight = -0.1 # Average weights for the normal distribution\n",
    "# List of standard deviation sigma (of the normal distribution)\n",
    "sigmas_zoom = list([0.0607, 0.0614, 0.0621, 0.0629, 0.0636, 0.0643, 0.0643, 0.0657, 0.0664, 0.0671, 0.0679,\n",
    "                 0.0686, 0.0693])\n",
    "sigmas = list(np.arange(0.01, 0.06, 0.005))+\\\n",
    "        list(np.arange(0.06, 0.1, 0.01))+\\\n",
    "        sigmas_zoom+\\\n",
    "        list(np.arange(0.1, 0.2, 0.01))+\\\n",
    "        list(np.arange(0.2, 1, 0.1))+\\\n",
    "        list(np.arange(1, 11, 1))\n",
    "\n",
    "print(f'The model will be evaluated on {len(sigmas)} values of sigma(W):')\n",
    "print('sigma(W) =', sigmas)"
   ]
  },
  {
   "cell_type": "code",
   "execution_count": 3,
   "id": "58572f90",
   "metadata": {},
   "outputs": [],
   "source": [
    "# Create the model\n",
    "optionData = {'spikeCount':True, 'indexActive':False} # Option for saving data\n",
    "brain = binaryModel(N, sim=sim, experiment=experiment)\n",
    "seedConnectivity = 747\n",
    "initRandomArchitecture(brain, K, seed=seedConnectivity) # Fixed architecture"
   ]
  },
  {
   "cell_type": "code",
   "execution_count": 4,
   "id": "98de6478",
   "metadata": {},
   "outputs": [],
   "source": [
    "# Function to check if reservoir is ran already\n",
    "\n",
    "def check_if_ran(sim, experiment, N, K, meanWeight):\n",
    "    #Check network has not been run already\n",
    "    pathBrain = dataPath(sim, experiment, N, K, meanWeight)\n",
    "    file_path = pathBrain + f\"/metadata_N{N}_K{K}*T{nbTrial}_W{meanWeight}_std{sigma}.npy\"\n",
    "    if os.path.exists(file_path):\n",
    "        print('Network already run, next...\\n \\n')\n",
    "        return True\n",
    "    else:\n",
    "        return False"
   ]
  },
  {
   "cell_type": "code",
   "execution_count": 5,
   "id": "e7e452b4",
   "metadata": {},
   "outputs": [
    {
     "name": "stderr",
     "output_type": "stream",
     "text": [
      "  0%|          | 0/56 [00:00<?, ?it/s]"
     ]
    },
    {
     "name": "stdout",
     "output_type": "stream",
     "text": [
      "---- RUN ! ----\n",
      "---- RUN ! ----\n",
      "---- RUN ! ----\n",
      "---- RUN ! ----\n",
      "---- RUN ! ----\n",
      "---- RUN ! ----\n",
      "---- RUN ! ----\n",
      "---- RUN ! ----\n",
      "---- RUN ! ----\n",
      "---- RUN ! ----\n"
     ]
    },
    {
     "name": "stderr",
     "output_type": "stream",
     "text": [
      "  2%|▏         | 1/56 [00:21<19:34, 21.35s/it]"
     ]
    },
    {
     "name": "stdout",
     "output_type": "stream",
     "text": [
      "c:\\\\Users\\Manu\\Documents\\GitHub\\binary_model\\/results/statisticalAnalysis\\display_phase_transition_normal\\/N10000_K16/mu-0.1/std0.01\n",
      "---- RUN ! ----\n",
      "---- RUN ! ----\n",
      "---- RUN ! ----\n",
      "---- RUN ! ----\n",
      "---- RUN ! ----\n",
      "---- RUN ! ----\n",
      "---- RUN ! ----\n",
      "---- RUN ! ----\n",
      "---- RUN ! ----\n",
      "---- RUN ! ----\n"
     ]
    },
    {
     "name": "stderr",
     "output_type": "stream",
     "text": [
      "  4%|▎         | 2/56 [00:42<18:54, 21.01s/it]"
     ]
    },
    {
     "name": "stdout",
     "output_type": "stream",
     "text": [
      "c:\\\\Users\\Manu\\Documents\\GitHub\\binary_model\\/results/statisticalAnalysis\\display_phase_transition_normal\\/N10000_K16/mu-0.1/std0.015\n",
      "---- RUN ! ----\n",
      "---- RUN ! ----\n",
      "---- RUN ! ----\n",
      "---- RUN ! ----\n",
      "---- RUN ! ----\n",
      "---- RUN ! ----\n",
      "---- RUN ! ----\n",
      "---- RUN ! ----\n",
      "---- RUN ! ----\n",
      "---- RUN ! ----\n"
     ]
    },
    {
     "name": "stderr",
     "output_type": "stream",
     "text": [
      "  5%|▌         | 3/56 [01:03<18:36, 21.07s/it]"
     ]
    },
    {
     "name": "stdout",
     "output_type": "stream",
     "text": [
      "c:\\\\Users\\Manu\\Documents\\GitHub\\binary_model\\/results/statisticalAnalysis\\display_phase_transition_normal\\/N10000_K16/mu-0.1/std0.02\n",
      "---- RUN ! ----\n",
      "---- RUN ! ----\n",
      "---- RUN ! ----\n",
      "---- RUN ! ----\n",
      "---- RUN ! ----\n",
      "---- RUN ! ----\n",
      "---- RUN ! ----\n",
      "---- RUN ! ----\n",
      "---- RUN ! ----\n",
      "---- RUN ! ----\n"
     ]
    },
    {
     "name": "stderr",
     "output_type": "stream",
     "text": [
      "  7%|▋         | 4/56 [01:24<18:27, 21.29s/it]"
     ]
    },
    {
     "name": "stdout",
     "output_type": "stream",
     "text": [
      "c:\\\\Users\\Manu\\Documents\\GitHub\\binary_model\\/results/statisticalAnalysis\\display_phase_transition_normal\\/N10000_K16/mu-0.1/std0.025\n",
      "---- RUN ! ----\n",
      "---- RUN ! ----\n",
      "---- RUN ! ----\n",
      "---- RUN ! ----\n",
      "---- RUN ! ----\n",
      "---- RUN ! ----\n",
      "---- RUN ! ----\n",
      "---- RUN ! ----\n",
      "---- RUN ! ----\n",
      "---- RUN ! ----\n"
     ]
    },
    {
     "name": "stderr",
     "output_type": "stream",
     "text": [
      "  9%|▉         | 5/56 [01:46<18:09, 21.37s/it]"
     ]
    },
    {
     "name": "stdout",
     "output_type": "stream",
     "text": [
      "c:\\\\Users\\Manu\\Documents\\GitHub\\binary_model\\/results/statisticalAnalysis\\display_phase_transition_normal\\/N10000_K16/mu-0.1/std0.03\n",
      "---- RUN ! ----\n",
      "---- RUN ! ----\n",
      "---- RUN ! ----\n",
      "---- RUN ! ----\n",
      "---- RUN ! ----\n",
      "---- RUN ! ----\n",
      "---- RUN ! ----\n",
      "---- RUN ! ----\n",
      "---- RUN ! ----\n",
      "---- RUN ! ----\n"
     ]
    },
    {
     "name": "stderr",
     "output_type": "stream",
     "text": [
      " 11%|█         | 6/56 [02:06<17:27, 20.95s/it]"
     ]
    },
    {
     "name": "stdout",
     "output_type": "stream",
     "text": [
      "c:\\\\Users\\Manu\\Documents\\GitHub\\binary_model\\/results/statisticalAnalysis\\display_phase_transition_normal\\/N10000_K16/mu-0.1/std0.035\n",
      "---- RUN ! ----\n",
      "---- RUN ! ----\n",
      "---- RUN ! ----\n",
      "---- RUN ! ----\n",
      "---- RUN ! ----\n",
      "---- RUN ! ----\n",
      "---- RUN ! ----\n",
      "---- RUN ! ----\n",
      "---- RUN ! ----\n",
      "---- RUN ! ----\n"
     ]
    },
    {
     "name": "stderr",
     "output_type": "stream",
     "text": [
      " 12%|█▎        | 7/56 [02:28<17:28, 21.39s/it]"
     ]
    },
    {
     "name": "stdout",
     "output_type": "stream",
     "text": [
      "c:\\\\Users\\Manu\\Documents\\GitHub\\binary_model\\/results/statisticalAnalysis\\display_phase_transition_normal\\/N10000_K16/mu-0.1/std0.04\n",
      "---- RUN ! ----\n",
      "---- RUN ! ----\n",
      "---- RUN ! ----\n",
      "---- RUN ! ----\n",
      "---- RUN ! ----\n",
      "---- RUN ! ----\n",
      "---- RUN ! ----\n",
      "---- RUN ! ----\n",
      "---- RUN ! ----\n",
      "---- RUN ! ----\n"
     ]
    },
    {
     "name": "stderr",
     "output_type": "stream",
     "text": [
      " 14%|█▍        | 8/56 [02:52<17:35, 21.98s/it]"
     ]
    },
    {
     "name": "stdout",
     "output_type": "stream",
     "text": [
      "c:\\\\Users\\Manu\\Documents\\GitHub\\binary_model\\/results/statisticalAnalysis\\display_phase_transition_normal\\/N10000_K16/mu-0.1/std0.045\n",
      "---- RUN ! ----\n",
      "---- RUN ! ----\n",
      "---- RUN ! ----\n",
      "---- RUN ! ----\n",
      "---- RUN ! ----\n",
      "---- RUN ! ----\n",
      "---- RUN ! ----\n",
      "---- RUN ! ----\n",
      "---- RUN ! ----\n",
      "---- RUN ! ----\n"
     ]
    },
    {
     "name": "stderr",
     "output_type": "stream",
     "text": [
      " 16%|█▌        | 9/56 [03:14<17:15, 22.03s/it]"
     ]
    },
    {
     "name": "stdout",
     "output_type": "stream",
     "text": [
      "c:\\\\Users\\Manu\\Documents\\GitHub\\binary_model\\/results/statisticalAnalysis\\display_phase_transition_normal\\/N10000_K16/mu-0.1/std0.05\n",
      "---- RUN ! ----\n",
      "---- RUN ! ----\n",
      "---- RUN ! ----\n",
      "---- RUN ! ----\n",
      "---- RUN ! ----\n",
      "---- RUN ! ----\n",
      "---- RUN ! ----\n",
      "---- RUN ! ----\n",
      "---- RUN ! ----\n",
      "---- RUN ! ----\n"
     ]
    },
    {
     "name": "stderr",
     "output_type": "stream",
     "text": [
      " 18%|█▊        | 10/56 [03:36<16:52, 22.00s/it]"
     ]
    },
    {
     "name": "stdout",
     "output_type": "stream",
     "text": [
      "c:\\\\Users\\Manu\\Documents\\GitHub\\binary_model\\/results/statisticalAnalysis\\display_phase_transition_normal\\/N10000_K16/mu-0.1/std0.055\n",
      "---- RUN ! ----\n",
      "---- RUN ! ----\n",
      "---- RUN ! ----\n",
      "---- RUN ! ----\n",
      "---- RUN ! ----\n",
      "---- RUN ! ----\n",
      "---- RUN ! ----\n",
      "---- RUN ! ----\n",
      "---- RUN ! ----\n",
      "---- RUN ! ----\n"
     ]
    },
    {
     "name": "stderr",
     "output_type": "stream",
     "text": [
      " 20%|█▉        | 11/56 [03:58<16:38, 22.20s/it]"
     ]
    },
    {
     "name": "stdout",
     "output_type": "stream",
     "text": [
      "c:\\\\Users\\Manu\\Documents\\GitHub\\binary_model\\/results/statisticalAnalysis\\display_phase_transition_normal\\/N10000_K16/mu-0.1/std0.06\n",
      "---- RUN ! ----\n",
      "---- RUN ! ----\n",
      "---- RUN ! ----\n",
      "---- RUN ! ----\n",
      "---- RUN ! ----\n",
      "---- RUN ! ----\n",
      "---- RUN ! ----\n",
      "---- RUN ! ----\n",
      "---- RUN ! ----\n",
      "---- RUN ! ----\n"
     ]
    },
    {
     "name": "stderr",
     "output_type": "stream",
     "text": [
      " 21%|██▏       | 12/56 [04:20<16:15, 22.17s/it]"
     ]
    },
    {
     "name": "stdout",
     "output_type": "stream",
     "text": [
      "c:\\\\Users\\Manu\\Documents\\GitHub\\binary_model\\/results/statisticalAnalysis\\display_phase_transition_normal\\/N10000_K16/mu-0.1/std0.07\n",
      "---- RUN ! ----\n",
      "---- RUN ! ----\n",
      "---- RUN ! ----\n",
      "---- RUN ! ----\n",
      "---- RUN ! ----\n",
      "---- RUN ! ----\n",
      "---- RUN ! ----\n",
      "---- RUN ! ----\n",
      "---- RUN ! ----\n",
      "---- RUN ! ----\n"
     ]
    },
    {
     "name": "stderr",
     "output_type": "stream",
     "text": [
      " 23%|██▎       | 13/56 [04:44<16:06, 22.49s/it]"
     ]
    },
    {
     "name": "stdout",
     "output_type": "stream",
     "text": [
      "c:\\\\Users\\Manu\\Documents\\GitHub\\binary_model\\/results/statisticalAnalysis\\display_phase_transition_normal\\/N10000_K16/mu-0.1/std0.08\n",
      "---- RUN ! ----\n",
      "---- RUN ! ----\n",
      "---- RUN ! ----\n",
      "---- RUN ! ----\n",
      "---- RUN ! ----\n",
      "---- RUN ! ----\n",
      "---- RUN ! ----\n",
      "---- RUN ! ----\n",
      "---- RUN ! ----\n",
      "---- RUN ! ----\n"
     ]
    },
    {
     "name": "stderr",
     "output_type": "stream",
     "text": [
      " 25%|██▌       | 14/56 [05:07<15:59, 22.84s/it]"
     ]
    },
    {
     "name": "stdout",
     "output_type": "stream",
     "text": [
      "c:\\\\Users\\Manu\\Documents\\GitHub\\binary_model\\/results/statisticalAnalysis\\display_phase_transition_normal\\/N10000_K16/mu-0.1/std0.09\n",
      "---- RUN ! ----\n",
      "---- RUN ! ----\n",
      "---- RUN ! ----\n",
      "---- RUN ! ----\n",
      "---- RUN ! ----\n",
      "---- RUN ! ----\n",
      "---- RUN ! ----\n",
      "---- RUN ! ----\n",
      "---- RUN ! ----\n",
      "---- RUN ! ----\n"
     ]
    },
    {
     "name": "stderr",
     "output_type": "stream",
     "text": [
      " 27%|██▋       | 15/56 [05:30<15:32, 22.73s/it]"
     ]
    },
    {
     "name": "stdout",
     "output_type": "stream",
     "text": [
      "c:\\\\Users\\Manu\\Documents\\GitHub\\binary_model\\/results/statisticalAnalysis\\display_phase_transition_normal\\/N10000_K16/mu-0.1/std0.1\n",
      "---- RUN ! ----\n",
      "---- RUN ! ----\n",
      "---- RUN ! ----\n",
      "---- RUN ! ----\n",
      "---- RUN ! ----\n",
      "---- RUN ! ----\n",
      "---- RUN ! ----\n",
      "---- RUN ! ----\n",
      "---- RUN ! ----\n",
      "---- RUN ! ----\n"
     ]
    },
    {
     "name": "stderr",
     "output_type": "stream",
     "text": [
      " 29%|██▊       | 16/56 [05:53<15:11, 22.78s/it]"
     ]
    },
    {
     "name": "stdout",
     "output_type": "stream",
     "text": [
      "c:\\\\Users\\Manu\\Documents\\GitHub\\binary_model\\/results/statisticalAnalysis\\display_phase_transition_normal\\/N10000_K16/mu-0.1/std0.0607\n",
      "---- RUN ! ----\n",
      "---- RUN ! ----\n",
      "---- RUN ! ----\n",
      "---- RUN ! ----\n",
      "---- RUN ! ----\n",
      "---- RUN ! ----\n",
      "---- RUN ! ----\n",
      "---- RUN ! ----\n",
      "---- RUN ! ----\n",
      "---- RUN ! ----\n"
     ]
    },
    {
     "name": "stderr",
     "output_type": "stream",
     "text": [
      " 30%|███       | 17/56 [06:17<15:08, 23.29s/it]"
     ]
    },
    {
     "name": "stdout",
     "output_type": "stream",
     "text": [
      "c:\\\\Users\\Manu\\Documents\\GitHub\\binary_model\\/results/statisticalAnalysis\\display_phase_transition_normal\\/N10000_K16/mu-0.1/std0.0614\n",
      "---- RUN ! ----\n",
      "---- RUN ! ----\n",
      "---- RUN ! ----\n",
      "---- RUN ! ----\n",
      "---- RUN ! ----\n",
      "---- RUN ! ----\n",
      "---- RUN ! ----\n",
      "---- RUN ! ----\n",
      "---- RUN ! ----\n"
     ]
    },
    {
     "name": "stderr",
     "output_type": "stream",
     "text": [
      " 30%|███       | 17/56 [06:40<15:19, 23.57s/it]\n"
     ]
    },
    {
     "ename": "KeyboardInterrupt",
     "evalue": "",
     "output_type": "error",
     "traceback": [
      "\u001b[1;31m---------------------------------------------------------------------------\u001b[0m",
      "\u001b[1;31mKeyboardInterrupt\u001b[0m                         Traceback (most recent call last)",
      "\u001b[1;32m~\\AppData\\Local\\Temp\\ipykernel_41892\\2821924987.py\u001b[0m in \u001b[0;36m<cell line: 3>\u001b[1;34m()\u001b[0m\n\u001b[0;32m     20\u001b[0m         \u001b[1;31m#brain.displayInfoNetwork()\u001b[0m\u001b[1;33m\u001b[0m\u001b[1;33m\u001b[0m\u001b[0m\n\u001b[0;32m     21\u001b[0m         \u001b[0mbrain\u001b[0m\u001b[1;33m.\u001b[0m\u001b[0minitRandomState\u001b[0m\u001b[1;33m(\u001b[0m\u001b[1;36m0.2\u001b[0m\u001b[1;33m,\u001b[0m \u001b[0mseed\u001b[0m\u001b[1;33m=\u001b[0m\u001b[0mt\u001b[0m\u001b[1;33m*\u001b[0m\u001b[1;36m100\u001b[0m\u001b[1;33m)\u001b[0m \u001b[1;31m# Initialize the state of the reservoir\u001b[0m\u001b[1;33m\u001b[0m\u001b[1;33m\u001b[0m\u001b[0m\n\u001b[1;32m---> 22\u001b[1;33m         \u001b[0mbrain\u001b[0m\u001b[1;33m.\u001b[0m\u001b[0mrun\u001b[0m\u001b[1;33m(\u001b[0m\u001b[0mduration\u001b[0m\u001b[1;33m,\u001b[0m \u001b[1;33m**\u001b[0m\u001b[0moptionData\u001b[0m\u001b[1;33m)\u001b[0m\u001b[1;33m\u001b[0m\u001b[1;33m\u001b[0m\u001b[0m\n\u001b[0m\u001b[0;32m     23\u001b[0m \u001b[1;33m\u001b[0m\u001b[0m\n\u001b[0;32m     24\u001b[0m         \u001b[1;31m# Reset the network\u001b[0m\u001b[1;33m\u001b[0m\u001b[1;33m\u001b[0m\u001b[0m\n",
      "\u001b[1;32mc:\\Users\\Manu\\Documents\\GitHub\\binary_model\\model\\binaryModel.py\u001b[0m in \u001b[0;36mrun\u001b[1;34m(self, duration, readout, **kwargs)\u001b[0m\n\u001b[0;32m    391\u001b[0m             \u001b[1;31m# Update network state\u001b[0m\u001b[1;33m\u001b[0m\u001b[1;33m\u001b[0m\u001b[0m\n\u001b[0;32m    392\u001b[0m             \u001b[0mcheckStateDim\u001b[0m\u001b[1;33m(\u001b[0m\u001b[0mself\u001b[0m\u001b[1;33m.\u001b[0m\u001b[0mx\u001b[0m\u001b[1;33m,\u001b[0m \u001b[0mself\u001b[0m\u001b[1;33m.\u001b[0m\u001b[0mN\u001b[0m\u001b[1;33m)\u001b[0m  \u001b[1;31m# Insure proper dimension of network state\u001b[0m\u001b[1;33m\u001b[0m\u001b[1;33m\u001b[0m\u001b[0m\n\u001b[1;32m--> 393\u001b[1;33m             \u001b[0mself\u001b[0m\u001b[1;33m.\u001b[0m\u001b[0mupdateStateNetwork\u001b[0m\u001b[1;33m(\u001b[0m\u001b[0mt\u001b[0m\u001b[1;33m,\u001b[0m \u001b[1;33m**\u001b[0m\u001b[0mkwargs\u001b[0m\u001b[1;33m)\u001b[0m\u001b[1;33m\u001b[0m\u001b[1;33m\u001b[0m\u001b[0m\n\u001b[0m\u001b[0;32m    394\u001b[0m \u001b[1;33m\u001b[0m\u001b[0m\n\u001b[0;32m    395\u001b[0m             \u001b[1;31m# Update readout state\u001b[0m\u001b[1;33m\u001b[0m\u001b[1;33m\u001b[0m\u001b[0m\n",
      "\u001b[1;32mc:\\Users\\Manu\\Documents\\GitHub\\binary_model\\model\\binaryModel.py\u001b[0m in \u001b[0;36mupdateStateNetwork\u001b[1;34m(self, t, **kwargs)\u001b[0m\n\u001b[0;32m    308\u001b[0m         \u001b[1;32melse\u001b[0m\u001b[1;33m:\u001b[0m\u001b[1;33m\u001b[0m\u001b[1;33m\u001b[0m\u001b[0m\n\u001b[0;32m    309\u001b[0m             \u001b[0mmembranePotential\u001b[0m \u001b[1;33m=\u001b[0m \u001b[0mnp\u001b[0m\u001b[1;33m.\u001b[0m\u001b[0marray\u001b[0m\u001b[1;33m(\u001b[0m\u001b[0mself\u001b[0m\u001b[1;33m.\u001b[0m\u001b[0mx\u001b[0m \u001b[1;33m@\u001b[0m \u001b[0mself\u001b[0m\u001b[1;33m.\u001b[0m\u001b[0mW_matrix\u001b[0m \u001b[1;33m+\u001b[0m \u001b[0mself\u001b[0m\u001b[1;33m.\u001b[0m\u001b[0mu\u001b[0m \u001b[1;33m@\u001b[0m \u001b[0mself\u001b[0m\u001b[1;33m.\u001b[0m\u001b[0mWin_matrix\u001b[0m \u001b[1;33m+\u001b[0m \u001b[0mself\u001b[0m\u001b[1;33m.\u001b[0m\u001b[0mc\u001b[0m\u001b[1;33m,\u001b[0m \u001b[0mdtype\u001b[0m\u001b[1;33m=\u001b[0m\u001b[0mfloat\u001b[0m\u001b[1;33m)\u001b[0m\u001b[1;33m\u001b[0m\u001b[1;33m\u001b[0m\u001b[0m\n\u001b[1;32m--> 310\u001b[1;33m         \u001b[0mself\u001b[0m\u001b[1;33m.\u001b[0m\u001b[0mx\u001b[0m \u001b[1;33m=\u001b[0m \u001b[0mnp\u001b[0m\u001b[1;33m.\u001b[0m\u001b[0marray\u001b[0m\u001b[1;33m(\u001b[0m\u001b[0mnp\u001b[0m\u001b[1;33m.\u001b[0m\u001b[0mheaviside\u001b[0m\u001b[1;33m(\u001b[0m\u001b[0mmembranePotential\u001b[0m\u001b[1;33m,\u001b[0m \u001b[1;36m0.0\u001b[0m\u001b[1;33m)\u001b[0m\u001b[1;33m,\u001b[0m \u001b[0mdtype\u001b[0m\u001b[1;33m=\u001b[0m\u001b[0mint\u001b[0m\u001b[1;33m)\u001b[0m\u001b[1;33m\u001b[0m\u001b[1;33m\u001b[0m\u001b[0m\n\u001b[0m\u001b[0;32m    311\u001b[0m \u001b[1;33m\u001b[0m\u001b[0m\n\u001b[0;32m    312\u001b[0m         \u001b[1;31m# if self.continuousState:\u001b[0m\u001b[1;33m\u001b[0m\u001b[1;33m\u001b[0m\u001b[0m\n",
      "\u001b[1;31mKeyboardInterrupt\u001b[0m: "
     ]
    }
   ],
   "source": [
    "# Run the model\n",
    "\n",
    "for sigma in tqdm(sigmas):\n",
    "    sigma = np.round(sigma, 4)\n",
    "    optionData = {'spikeCount':True, 'indexActive':False}\n",
    "    for t in range(nbTrial):\n",
    "        \n",
    "        # Check if the network is already run\n",
    "        check = check_if_ran(sim, experiment, N, K, meanWeight)\n",
    "        if check:\n",
    "            continue\n",
    "        \n",
    "        # Select weight distribution\n",
    "        if distribution_weight == 'normal':\n",
    "            initGaussianWeights(brain, meanWeight, sigma, seed=t*100)\n",
    "        elif distribution_weight == 'uniform':\n",
    "            initUniformWeights(brain, meanWeight, sigma, seed=t*100)\n",
    "        \n",
    "        # Run simulation\n",
    "        brain.displayInfoNetwork()\n",
    "        brain.initRandomState(0.2, seed=t*100) # Initialize the state of the reservoir\n",
    "        brain.run(duration, **optionData)\n",
    "        \n",
    "        # Reset the network\n",
    "        brain.reset()\n",
    "    \n",
    "    # Save data and metadata\n",
    "    brain.saveData(**optionData)\n",
    "    brain.saveMetadata()\n",
    "    brain.reset(deep=True)\n"
   ]
  },
  {
   "cell_type": "code",
   "execution_count": 17,
   "id": "61fffc10",
   "metadata": {},
   "outputs": [],
   "source": [
    "# Analyse the data\n",
    "\n",
    "from model.utils import statisticsActivity\n",
    "import glob \n",
    "\n",
    "def statisticActivity_over_sigma(meanWeight, N, K, nbTrial, I=0.2,\n",
    "                                 sim='statisticalAnalysis', experiment='allDegree'):\n",
    "       \n",
    "    result_dir = dataPath(sim, experiment)\n",
    "    analysis_folder = os.path.join(result_dir, sim)\n",
    "    if not os.path.isdir(analysis_folder):\n",
    "        os.makedirs(analysis_folder)\n",
    "        \n",
    "    # Figure\n",
    "    avgLabel = r'$<<A>_t>_T}$'\n",
    "    varLabel = r'$<\\sigma^2_t(A)/N>_T$'\n",
    "    xlabel = r'$|\\sigma^{\\star}|$'\n",
    "    # title1 = 'average over trial of the time averaged activity'\n",
    "    # title2 = 'average over trial of the time variance activity'\n",
    "    fig = plt.figure()\n",
    "    ax = fig.add_subplot(2, 1, 1)\n",
    "    #ax.set_xlabel(xlabel)\n",
    "    ax.set_ylabel(avgLabel)\n",
    "    ax.set_title('Average')\n",
    "    ax1 = fig.add_subplot(2, 1, 2)\n",
    "    ax1.set_xlabel(xlabel)\n",
    "    ax1.set_ylabel(varLabel)\n",
    "    ax1.set_title('Variance')\n",
    "    \n",
    "    avgAll = []\n",
    "    varAll = []\n",
    "\n",
    "    # data folder\n",
    "    directory = dataPath(sim, experiment, N, K, meanWeights=meanWeight)\n",
    "    filenames = glob.glob(directory + '/metadata_*T{0}*.npy'.format(nbTrial))\n",
    "    stdWeights = []\n",
    "    for filename in filenames:\n",
    "\n",
    "        # Load datas\n",
    "        metadata = np.load(filename, allow_pickle='TRUE').item()\n",
    "        directoryActivity = metadata['dataPath']\n",
    "        stdWeights.append(metadata['stdWeights'])\n",
    "        fileData = metadata['spikeCountFile']\n",
    "        duration = metadata['duration']\n",
    "        idxStart = int(duration / 2)\n",
    "        # Load activity data\n",
    "        filepath = directoryActivity + '/' + fileData + '.npy'\n",
    "        print(filepath)\n",
    "        A_trials = np.load(filepath)\n",
    "\n",
    "        # Global statistics\n",
    "        avgTrials, varTrials = statisticsActivity(N, A_trials, idxStart)\n",
    "        avgAll.append(avgTrials)\n",
    "        varAll.append(varTrials)\n",
    "\n",
    "    # plot average of all trials\n",
    "    stdWeights = np.array(stdWeights)\n",
    "    order = np.argsort(stdWeights)\n",
    "    stdWeights = stdWeights[order]\n",
    "    avgAll = np.array(avgAll)\n",
    "    avgAll = avgAll[order]\n",
    "    varAll = np.array(varAll)\n",
    "    varAll = varAll[order]\n",
    "\n",
    "    if meanWeight>0:\n",
    "        marker = '^-'\n",
    "        label = '$\\sigma^{\\star}>0$'\n",
    "    elif meanWeight<0:\n",
    "        marker = 'v-'\n",
    "        label = '$\\sigma^{\\star}<0$'\n",
    "    else:\n",
    "        marker = 'o-'\n",
    "        label = '$\\mu=0$'\n",
    "    \n",
    "    if meanWeight != 0:\n",
    "        x_axis = np.abs(stdWeights/meanWeight)\n",
    "    else:\n",
    "        x_axis = np.abs(stdWeights)\n",
    "\n",
    "    ax.semilogx(x_axis, avgAll, marker, label=label)\n",
    "    color = ax.get_lines()[-1].get_color()\n",
    "    ax1.semilogx(x_axis, varAll, marker, color=color)\n",
    "\n",
    "    plt.tight_layout()\n",
    "    fig.savefig(analysis_folder + f'statActivity_sorted_N{N}_K{K}_d{duration}_T{nbTrial}.svg')\n"
   ]
  },
  {
   "cell_type": "code",
   "execution_count": 18,
   "id": "f834e958",
   "metadata": {},
   "outputs": [
    {
     "name": "stdout",
     "output_type": "stream",
     "text": [
      "c:\\\\Users\\Manu\\Documents\\GitHub\\binary_model\\/results/statisticalAnalysis\\display_phase_transition_normal\\/N10000_K16/mu-0.1/std0.01/spikeCount_N10000_K16_D2000_T10_W-0.1_std0.01.npy\n",
      "c:\\\\Users\\Manu\\Documents\\GitHub\\binary_model\\/results/statisticalAnalysis\\display_phase_transition_normal\\/N10000_K16/mu-0.1/std0.015/spikeCount_N10000_K16_D2000_T10_W-0.1_std0.015.npy\n",
      "c:\\\\Users\\Manu\\Documents\\GitHub\\binary_model\\/results/statisticalAnalysis\\display_phase_transition_normal\\/N10000_K16/mu-0.1/std0.02/spikeCount_N10000_K16_D2000_T10_W-0.1_std0.02.npy\n",
      "c:\\\\Users\\Manu\\Documents\\GitHub\\binary_model\\/results/statisticalAnalysis\\display_phase_transition_normal\\/N10000_K16/mu-0.1/std0.025/spikeCount_N10000_K16_D2000_T10_W-0.1_std0.025.npy\n",
      "c:\\\\Users\\Manu\\Documents\\GitHub\\binary_model\\/results/statisticalAnalysis\\display_phase_transition_normal\\/N10000_K16/mu-0.1/std0.03/spikeCount_N10000_K16_D2000_T10_W-0.1_std0.03.npy\n",
      "c:\\\\Users\\Manu\\Documents\\GitHub\\binary_model\\/results/statisticalAnalysis\\display_phase_transition_normal\\/N10000_K16/mu-0.1/std0.035/spikeCount_N10000_K16_D2000_T10_W-0.1_std0.035.npy\n",
      "c:\\\\Users\\Manu\\Documents\\GitHub\\binary_model\\/results/statisticalAnalysis\\display_phase_transition_normal\\/N10000_K16/mu-0.1/std0.04/spikeCount_N10000_K16_D2000_T10_W-0.1_std0.04.npy\n",
      "c:\\\\Users\\Manu\\Documents\\GitHub\\binary_model\\/results/statisticalAnalysis\\display_phase_transition_normal\\/N10000_K16/mu-0.1/std0.045/spikeCount_N10000_K16_D2000_T10_W-0.1_std0.045.npy\n",
      "c:\\\\Users\\Manu\\Documents\\GitHub\\binary_model\\/results/statisticalAnalysis\\display_phase_transition_normal\\/N10000_K16/mu-0.1/std0.05/spikeCount_N10000_K16_D2000_T10_W-0.1_std0.05.npy\n",
      "c:\\\\Users\\Manu\\Documents\\GitHub\\binary_model\\/results/statisticalAnalysis\\display_phase_transition_normal\\/N10000_K16/mu-0.1/std0.055/spikeCount_N10000_K16_D2000_T10_W-0.1_std0.055.npy\n",
      "c:\\\\Users\\Manu\\Documents\\GitHub\\binary_model\\/results/statisticalAnalysis\\display_phase_transition_normal\\/N10000_K16/mu-0.1/std0.06/spikeCount_N10000_K16_D2000_T10_W-0.1_std0.06.npy\n",
      "c:\\\\Users\\Manu\\Documents\\GitHub\\binary_model\\/results/statisticalAnalysis\\display_phase_transition_normal\\/N10000_K16/mu-0.1/std0.0607/spikeCount_N10000_K16_D2000_T10_W-0.1_std0.0607.npy\n",
      "c:\\\\Users\\Manu\\Documents\\GitHub\\binary_model\\/results/statisticalAnalysis\\display_phase_transition_normal\\/N10000_K16/mu-0.1/std0.0614/spikeCount_N10000_K16_D2000_T10_W-0.1_std0.0614.npy\n",
      "c:\\\\Users\\Manu\\Documents\\GitHub\\binary_model\\/results/statisticalAnalysis\\display_phase_transition_normal\\/N10000_K16/mu-0.1/std0.07/spikeCount_N10000_K16_D2000_T10_W-0.1_std0.07.npy\n",
      "c:\\\\Users\\Manu\\Documents\\GitHub\\binary_model\\/results/statisticalAnalysis\\display_phase_transition_normal\\/N10000_K16/mu-0.1/std0.08/spikeCount_N10000_K16_D2000_T10_W-0.1_std0.08.npy\n",
      "c:\\\\Users\\Manu\\Documents\\GitHub\\binary_model\\/results/statisticalAnalysis\\display_phase_transition_normal\\/N10000_K16/mu-0.1/std0.09/spikeCount_N10000_K16_D2000_T10_W-0.1_std0.09.npy\n",
      "c:\\\\Users\\Manu\\Documents\\GitHub\\binary_model\\/results/statisticalAnalysis\\display_phase_transition_normal\\/N10000_K16/mu-0.1/std0.1/spikeCount_N10000_K16_D2000_T10_W-0.1_std0.1.npy\n"
     ]
    },
    {
     "ename": "NameError",
     "evalue": "name 'mu' is not defined",
     "output_type": "error",
     "traceback": [
      "\u001b[1;31m---------------------------------------------------------------------------\u001b[0m",
      "\u001b[1;31mNameError\u001b[0m                                 Traceback (most recent call last)",
      "\u001b[1;32m~\\AppData\\Local\\Temp\\ipykernel_41892\\649669043.py\u001b[0m in \u001b[0;36m<cell line: 2>\u001b[1;34m()\u001b[0m\n\u001b[0;32m      1\u001b[0m \u001b[1;31m# Run analysis\u001b[0m\u001b[1;33m\u001b[0m\u001b[1;33m\u001b[0m\u001b[0m\n\u001b[1;32m----> 2\u001b[1;33m statisticActivity_over_sigma(meanWeight, N, K, nbTrial,\n\u001b[0m\u001b[0;32m      3\u001b[0m                              sim=sim, experiment=experiment)\n",
      "\u001b[1;32m~\\AppData\\Local\\Temp\\ipykernel_41892\\3654770800.py\u001b[0m in \u001b[0;36mstatisticActivity_over_sigma\u001b[1;34m(meanWeight, N, K, nbTrial, I, sim, experiment)\u001b[0m\n\u001b[0;32m     63\u001b[0m     \u001b[0mvarAll\u001b[0m \u001b[1;33m=\u001b[0m \u001b[0mvarAll\u001b[0m\u001b[1;33m[\u001b[0m\u001b[0morder\u001b[0m\u001b[1;33m]\u001b[0m\u001b[1;33m\u001b[0m\u001b[1;33m\u001b[0m\u001b[0m\n\u001b[0;32m     64\u001b[0m \u001b[1;33m\u001b[0m\u001b[0m\n\u001b[1;32m---> 65\u001b[1;33m     \u001b[1;32mif\u001b[0m \u001b[0mmu\u001b[0m\u001b[1;33m>\u001b[0m\u001b[1;36m0\u001b[0m\u001b[1;33m:\u001b[0m\u001b[1;33m\u001b[0m\u001b[1;33m\u001b[0m\u001b[0m\n\u001b[0m\u001b[0;32m     66\u001b[0m         \u001b[0mmarker\u001b[0m \u001b[1;33m=\u001b[0m \u001b[1;34m'^-'\u001b[0m\u001b[1;33m\u001b[0m\u001b[1;33m\u001b[0m\u001b[0m\n\u001b[0;32m     67\u001b[0m     \u001b[1;32melse\u001b[0m\u001b[1;33m:\u001b[0m\u001b[1;33m\u001b[0m\u001b[1;33m\u001b[0m\u001b[0m\n",
      "\u001b[1;31mNameError\u001b[0m: name 'mu' is not defined"
     ]
    },
    {
     "data": {
      "image/png": "[encoded data removed]",
      "text/plain": [
       "<Figure size 432x288 with 2 Axes>"
      ]
     },
     "metadata": {
      "needs_background": "light"
     },
     "output_type": "display_data"
    }
   ],
   "source": [
    "# Run analysis\n",
    "statisticActivity_over_sigma(meanWeight, N, K, nbTrial,\n",
    "                             sim=sim, experiment=experiment)"
   ]
  },
  {
   "cell_type": "code",
   "execution_count": null,
   "id": "389b05ce",
   "metadata": {},
   "outputs": [],
   "source": []
  },
  {
   "cell_type": "code",
   "execution_count": null,
   "id": "4247cb28",
   "metadata": {},
   "outputs": [],
   "source": []
  }
 ],
 "metadata": {
  "kernelspec": {
   "display_name": "criticality",
   "language": "python",
   "name": "python3"
  },
  "language_info": {
   "codemirror_mode": {
    "name": "ipython",
    "version": 3
   },
   "file_extension": ".py",
   "mimetype": "text/x-python",
   "name": "python",
   "nbconvert_exporter": "python",
   "pygments_lexer": "ipython3",
   "version": "3.9.12"
  },
  "vscode": {
   "interpreter": {
    "hash": "6cf55cd172315896cdf7658b4f32d3d4b894c1add34cfe6a00e99f05e4ae6e58"
   }
  }
 },
 "nbformat": 4,
 "nbformat_minor": 5
}
